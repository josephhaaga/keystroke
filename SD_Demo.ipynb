{
 "cells": [
  {
   "cell_type": "code",
   "execution_count": 40,
   "metadata": {
    "collapsed": false
   },
   "outputs": [],
   "source": [
    "import pandas as pd;\n",
    "import numpy as np;\n",
    "import json;\n",
    "# a = pd.read_json('keystrokes-34c38-export (2).json')"
   ]
  },
  {
   "cell_type": "code",
   "execution_count": 41,
   "metadata": {
    "collapsed": false
   },
   "outputs": [],
   "source": [
    "# json.loads(open('keystrokes-34c38-export (1).json').readlines())\n",
    "rawJSON = json.loads(\"\".join(open('keystrokes-34c38-export (4).json').readlines()))"
   ]
  },
  {
   "cell_type": "code",
   "execution_count": 42,
   "metadata": {
    "collapsed": false
   },
   "outputs": [],
   "source": [
    "keystrokes=pd.DataFrame.from_dict(rawJSON)\n",
    "obj = (keystrokes[:1]['samples'])\n",
    "keystrokes=pd.DataFrame.from_dict(rawJSON['samples']).T"
   ]
  },
  {
   "cell_type": "code",
   "execution_count": 43,
   "metadata": {
    "collapsed": false,
    "scrolled": true
   },
   "outputs": [
    {
     "data": {
      "text/html": [
       "<div>\n",
       "<table border=\"1\" class=\"dataframe\">\n",
       "  <thead>\n",
       "    <tr style=\"text-align: right;\">\n",
       "      <th></th>\n",
       "      <th>keystrokes</th>\n",
       "      <th>subject</th>\n",
       "    </tr>\n",
       "  </thead>\n",
       "  <tbody>\n",
       "    <tr>\n",
       "      <th>-KVbkycA8sWfeS5yXEe3</th>\n",
       "      <td>[[\"1478135878083 Shift PRESSED\",\"1478135878195...</td>\n",
       "      <td>Joseph Haaga</td>\n",
       "    </tr>\n",
       "    <tr>\n",
       "      <th>-KVblIpvWU-VNivjTQzR</th>\n",
       "      <td>[[\"1478135954956 Shift PRESSED\",\"1478135955211...</td>\n",
       "      <td>Andrew Sutardji</td>\n",
       "    </tr>\n",
       "    <tr>\n",
       "      <th>-KVbnHZpYAW-8tdtmh9X</th>\n",
       "      <td>[[\"1478136483035 Shift PRESSED\",\"1478136483124...</td>\n",
       "      <td>Joseph Haaga</td>\n",
       "    </tr>\n",
       "    <tr>\n",
       "      <th>-KVbnkYCYNTzNO1a5VK_</th>\n",
       "      <td>[[\"1478136603116 Shift PRESSED\",\"1478136603213...</td>\n",
       "      <td>Joseph Haaga</td>\n",
       "    </tr>\n",
       "    <tr>\n",
       "      <th>-KVbp0rwVrUiIIGaycmW</th>\n",
       "      <td>[[\"1478136939933 Shift PRESSED\",\"1478136940044...</td>\n",
       "      <td>Joseph Haaga</td>\n",
       "    </tr>\n",
       "    <tr>\n",
       "      <th>-KVbpFpFBbzcUg1it00x</th>\n",
       "      <td>[[\"1478137001019 Shift PRESSED\",\"1478137001131...</td>\n",
       "      <td>Joseph Haaga</td>\n",
       "    </tr>\n",
       "    <tr>\n",
       "      <th>-KVbpQT6F9G8erQwRusp</th>\n",
       "      <td>[[\"1478137047346 undefined RELEASED\",\"14781370...</td>\n",
       "      <td>Joseph Haaga</td>\n",
       "    </tr>\n",
       "    <tr>\n",
       "      <th>-KVd0eAZy5YHyUlnzhnf</th>\n",
       "      <td>[[\"1478157025688 Shift PRESSED\",\"1478157025807...</td>\n",
       "      <td>Sean Murphy</td>\n",
       "    </tr>\n",
       "    <tr>\n",
       "      <th>-KVfF3_zM6uVQTVFzcYZ</th>\n",
       "      <td>[[\"1478194338378 Shift PRESSED\",\"1478194338490...</td>\n",
       "      <td>Justin Golt</td>\n",
       "    </tr>\n",
       "    <tr>\n",
       "      <th>-KVfF5BZeMtIsdfAJPw3</th>\n",
       "      <td>[[\"1478194359318 Shift PRESSED\",\"1478194359500...</td>\n",
       "      <td>Dr. Michael Dulik</td>\n",
       "    </tr>\n",
       "    <tr>\n",
       "      <th>-KVfFKWtDRlEodON-9XY</th>\n",
       "      <td>[[\"1478194418905 Shift PRESSED\",\"1478194419104...</td>\n",
       "      <td>Matthew Lee Keith</td>\n",
       "    </tr>\n",
       "    <tr>\n",
       "      <th>-KVfG2U6yhDE-2O05wE2</th>\n",
       "      <td>[[\"1478194614148 Shift PRESSED\",\"1478194614219...</td>\n",
       "      <td>Rachel Semenov</td>\n",
       "    </tr>\n",
       "    <tr>\n",
       "      <th>-KVfIaAfJ57xG252xHLU</th>\n",
       "      <td>[[\"1478195230668 Shift PRESSED\",\"1478195230843...</td>\n",
       "      <td>Ashley Sudney</td>\n",
       "    </tr>\n",
       "    <tr>\n",
       "      <th>-KVfLLcHSm_Zlk3e8dLF</th>\n",
       "      <td>[[\"1478195998905 Shift PRESSED\",\"1478195999129...</td>\n",
       "      <td>Eric Roden</td>\n",
       "    </tr>\n",
       "    <tr>\n",
       "      <th>-KVfZlHWlnaZ0RSzhF2S</th>\n",
       "      <td>[[\"1478199775719 Shift PRESSED\",\"1478199775981...</td>\n",
       "      <td>Andrew Speight</td>\n",
       "    </tr>\n",
       "    <tr>\n",
       "      <th>-KVf_RMt-yDJA5lj1KxX</th>\n",
       "      <td>[[\"1478199951935 Shift PRESSED\",\"1478199952093...</td>\n",
       "      <td>Ashley Sudney</td>\n",
       "    </tr>\n",
       "    <tr>\n",
       "      <th>-KVf_glTrWKGHeMclMYz</th>\n",
       "      <td>[[\"1478200025783 Control RELEASED\",\"1478200026...</td>\n",
       "      <td>Andrew Speight</td>\n",
       "    </tr>\n",
       "    <tr>\n",
       "      <th>-KVfaQZVa6ZQnsDkKRn5</th>\n",
       "      <td>[[\"1478200214730 Shift PRESSED\",\"1478200214920...</td>\n",
       "      <td>Matthew Lee Keith</td>\n",
       "    </tr>\n",
       "    <tr>\n",
       "      <th>-KVfalad_KBYXSJM9KSq</th>\n",
       "      <td>[[\"1478200298601 Shift PRESSED\",\"1478200298641...</td>\n",
       "      <td>Justin Golt</td>\n",
       "    </tr>\n",
       "    <tr>\n",
       "      <th>-KVfzZ8hHapjInGiSC0i</th>\n",
       "      <td>[[\"1478206797711 Shift PRESSED\",\"1478206797846...</td>\n",
       "      <td>Scott Oppenheim</td>\n",
       "    </tr>\n",
       "    <tr>\n",
       "      <th>-KVj98ldXOxT58DKwGOb</th>\n",
       "      <td>[[\"1478259915511 Shift PRESSED\",\"1478259915589...</td>\n",
       "      <td>Esther Nardone</td>\n",
       "    </tr>\n",
       "  </tbody>\n",
       "</table>\n",
       "</div>"
      ],
      "text/plain": [
       "                                                             keystrokes  \\\n",
       "-KVbkycA8sWfeS5yXEe3  [[\"1478135878083 Shift PRESSED\",\"1478135878195...   \n",
       "-KVblIpvWU-VNivjTQzR  [[\"1478135954956 Shift PRESSED\",\"1478135955211...   \n",
       "-KVbnHZpYAW-8tdtmh9X  [[\"1478136483035 Shift PRESSED\",\"1478136483124...   \n",
       "-KVbnkYCYNTzNO1a5VK_  [[\"1478136603116 Shift PRESSED\",\"1478136603213...   \n",
       "-KVbp0rwVrUiIIGaycmW  [[\"1478136939933 Shift PRESSED\",\"1478136940044...   \n",
       "-KVbpFpFBbzcUg1it00x  [[\"1478137001019 Shift PRESSED\",\"1478137001131...   \n",
       "-KVbpQT6F9G8erQwRusp  [[\"1478137047346 undefined RELEASED\",\"14781370...   \n",
       "-KVd0eAZy5YHyUlnzhnf  [[\"1478157025688 Shift PRESSED\",\"1478157025807...   \n",
       "-KVfF3_zM6uVQTVFzcYZ  [[\"1478194338378 Shift PRESSED\",\"1478194338490...   \n",
       "-KVfF5BZeMtIsdfAJPw3  [[\"1478194359318 Shift PRESSED\",\"1478194359500...   \n",
       "-KVfFKWtDRlEodON-9XY  [[\"1478194418905 Shift PRESSED\",\"1478194419104...   \n",
       "-KVfG2U6yhDE-2O05wE2  [[\"1478194614148 Shift PRESSED\",\"1478194614219...   \n",
       "-KVfIaAfJ57xG252xHLU  [[\"1478195230668 Shift PRESSED\",\"1478195230843...   \n",
       "-KVfLLcHSm_Zlk3e8dLF  [[\"1478195998905 Shift PRESSED\",\"1478195999129...   \n",
       "-KVfZlHWlnaZ0RSzhF2S  [[\"1478199775719 Shift PRESSED\",\"1478199775981...   \n",
       "-KVf_RMt-yDJA5lj1KxX  [[\"1478199951935 Shift PRESSED\",\"1478199952093...   \n",
       "-KVf_glTrWKGHeMclMYz  [[\"1478200025783 Control RELEASED\",\"1478200026...   \n",
       "-KVfaQZVa6ZQnsDkKRn5  [[\"1478200214730 Shift PRESSED\",\"1478200214920...   \n",
       "-KVfalad_KBYXSJM9KSq  [[\"1478200298601 Shift PRESSED\",\"1478200298641...   \n",
       "-KVfzZ8hHapjInGiSC0i  [[\"1478206797711 Shift PRESSED\",\"1478206797846...   \n",
       "-KVj98ldXOxT58DKwGOb  [[\"1478259915511 Shift PRESSED\",\"1478259915589...   \n",
       "\n",
       "                                subject  \n",
       "-KVbkycA8sWfeS5yXEe3       Joseph Haaga  \n",
       "-KVblIpvWU-VNivjTQzR    Andrew Sutardji  \n",
       "-KVbnHZpYAW-8tdtmh9X       Joseph Haaga  \n",
       "-KVbnkYCYNTzNO1a5VK_       Joseph Haaga  \n",
       "-KVbp0rwVrUiIIGaycmW       Joseph Haaga  \n",
       "-KVbpFpFBbzcUg1it00x       Joseph Haaga  \n",
       "-KVbpQT6F9G8erQwRusp       Joseph Haaga  \n",
       "-KVd0eAZy5YHyUlnzhnf        Sean Murphy  \n",
       "-KVfF3_zM6uVQTVFzcYZ        Justin Golt  \n",
       "-KVfF5BZeMtIsdfAJPw3  Dr. Michael Dulik  \n",
       "-KVfFKWtDRlEodON-9XY  Matthew Lee Keith  \n",
       "-KVfG2U6yhDE-2O05wE2     Rachel Semenov  \n",
       "-KVfIaAfJ57xG252xHLU      Ashley Sudney  \n",
       "-KVfLLcHSm_Zlk3e8dLF         Eric Roden  \n",
       "-KVfZlHWlnaZ0RSzhF2S     Andrew Speight  \n",
       "-KVf_RMt-yDJA5lj1KxX      Ashley Sudney  \n",
       "-KVf_glTrWKGHeMclMYz     Andrew Speight  \n",
       "-KVfaQZVa6ZQnsDkKRn5  Matthew Lee Keith  \n",
       "-KVfalad_KBYXSJM9KSq        Justin Golt  \n",
       "-KVfzZ8hHapjInGiSC0i    Scott Oppenheim  \n",
       "-KVj98ldXOxT58DKwGOb     Esther Nardone  "
      ]
     },
     "execution_count": 43,
     "metadata": {},
     "output_type": "execute_result"
    }
   ],
   "source": [
    "keystrokes"
   ]
  },
  {
   "cell_type": "code",
   "execution_count": 44,
   "metadata": {
    "collapsed": false
   },
   "outputs": [
    {
     "data": {
      "text/plain": [
       "['Joseph Haaga',\n",
       " 'Andrew Sutardji',\n",
       " 'Sean Murphy',\n",
       " 'Justin Golt',\n",
       " 'Dr. Michael Dulik',\n",
       " 'Matthew Lee Keith',\n",
       " 'Rachel Semenov',\n",
       " 'Ashley Sudney',\n",
       " 'Eric Roden',\n",
       " 'Andrew Speight',\n",
       " 'Scott Oppenheim',\n",
       " 'Esther Nardone']"
      ]
     },
     "execution_count": 44,
     "metadata": {},
     "output_type": "execute_result"
    }
   ],
   "source": [
    "keystrokes.subject.unique().tolist()\n",
    "# 12 unique subjects"
   ]
  },
  {
   "cell_type": "markdown",
   "metadata": {},
   "source": [
    "## List of features to calculate\n",
    "  - Dwell times per key (29 features)\n",
    "  - Flight time"
   ]
  },
  {
   "cell_type": "code",
   "execution_count": 45,
   "metadata": {
    "collapsed": false,
    "scrolled": true
   },
   "outputs": [],
   "source": [
    "# analyze single subject\n",
    "recording = keystrokes[:1]['keystrokes'][0]\n",
    "list_of_recordings = json.loads(recording)\n",
    "list_of_recordings[0]\n",
    "split_list = []\n",
    "\n",
    "# into DataFrame\n",
    "raw = pd.DataFrame(list_of_recordings[0])\n",
    "for n in raw.index:\n",
    "    split_list.append(raw[0][n].split(\" \"));\n",
    "split = pd.DataFrame(split_list,columns=['timestamp','key','action'])"
   ]
  },
  {
   "cell_type": "code",
   "execution_count": 46,
   "metadata": {
    "collapsed": false
   },
   "outputs": [],
   "source": [
    "def calculatePerKeyDwellTime(dataframe):\n",
    "    dwell_times = {}\n",
    "    for i in set(dataframe.key.unique()):\n",
    "        running_average = 0;\n",
    "        subset = dataframe[dataframe['key'] == i];\n",
    "        if(len(dataframe[dataframe['key']==i])%2==0):\n",
    "            for g in range(len(subset)-1):\n",
    "                running_average+=(float(subset.iloc[g+1]['timestamp']) - float(subset.iloc[g]['timestamp']));\n",
    "            running_average/=len(subset);\n",
    "        else: # last key release not recorded\n",
    "            for g in range(len(subset)-2):\n",
    "                running_average+=(float(subset.iloc[g+1]['timestamp']) - float(subset.iloc[g]['timestamp']));\n",
    "            running_average/=len(subset);\n",
    "        dwell_times[i] = running_average;\n",
    "    return dwell_times;    \n",
    "        "
   ]
  },
  {
   "cell_type": "code",
   "execution_count": 47,
   "metadata": {
    "collapsed": false
   },
   "outputs": [],
   "source": [
    "dts = calculatePerKeyDwellTime(split);"
   ]
  },
  {
   "cell_type": "code",
   "execution_count": 48,
   "metadata": {
    "collapsed": false
   },
   "outputs": [
    {
     "data": {
      "text/plain": [
       "<matplotlib.axes._subplots.AxesSubplot at 0x7fcff8de09e8>"
      ]
     },
     "execution_count": 48,
     "metadata": {},
     "output_type": "execute_result"
    },
    {
     "data": {
      "image/png": "[encoded data removed]",
      "text/plain": [
       "<matplotlib.figure.Figure at 0x7fcff8dc75f8>"
      ]
     },
     "metadata": {},
     "output_type": "display_data"
    }
   ],
   "source": [
    "import matplotlib\n",
    "%matplotlib inline\n",
    "import seaborn;\n",
    "pd.Series(dts).plot(kind='bar', title='Dwell Time by key', y='time (ms)')\n"
   ]
  },
  {
   "cell_type": "code",
   "execution_count": 49,
   "metadata": {
    "collapsed": false
   },
   "outputs": [],
   "source": [
    "def calculateFlightTime(dataframe):\n",
    "#     time between release and next key press\n",
    "    flight_times = [];\n",
    "    index_of_releases = ((dataframe[dataframe['action']=='RELEASED']).index.tolist());\n",
    "    range_of_events = list(range(index_of_releases[0], index_of_releases[-1]));\n",
    "    index_of_presses = list(set(range_of_events).difference(index_of_releases));\n",
    "#     print (index_of_presses);\n",
    "#     print (\"# presses: \"+str(len(index_of_presses)));\n",
    "#     print (index_of_releases);\n",
    "#     print (\"# releases: \"+str(len(index_of_releases)));\n",
    "#     drop any releases before the first press\n",
    "    first_press = index_of_presses[0];\n",
    "    while (index_of_presses[0]<index_of_releases[0]):\n",
    "        del index_of_releases[0];\n",
    "#     for j in range(min(len(index_of_releases),len(index_of_presses))):\n",
    "    while(len(index_of_presses)>0):\n",
    "        flight_times.append((float(dataframe['timestamp'].iloc[index_of_presses[0]]) - float(dataframe['timestamp'].iloc[index_of_releases[0]])));\n",
    "#         fix\n",
    "        del index_of_releases[0]\n",
    "        del index_of_presses[0]\n",
    "    \n",
    "    return flight_times;"
   ]
  },
  {
   "cell_type": "code",
   "execution_count": 50,
   "metadata": {
    "collapsed": false
   },
   "outputs": [],
   "source": [
    "a = calculateFlightTime(split);"
   ]
  },
  {
   "cell_type": "code",
   "execution_count": 51,
   "metadata": {
    "collapsed": false
   },
   "outputs": [
    {
     "data": {
      "text/plain": [
       "<matplotlib.axes._subplots.AxesSubplot at 0x7fcff8dc4208>"
      ]
     },
     "execution_count": 51,
     "metadata": {},
     "output_type": "execute_result"
    },
    {
     "data": {
      "image/png": "[encoded data removed]",
      "text/plain": [
       "<matplotlib.figure.Figure at 0x7fcff8d68668>"
      ]
     },
     "metadata": {},
     "output_type": "display_data"
    }
   ],
   "source": [
    "pd.Series(a).plot(title='Flight Time over time')"
   ]
  },
  {
   "cell_type": "code",
   "execution_count": 52,
   "metadata": {
    "collapsed": false
   },
   "outputs": [
    {
     "data": {
      "text/plain": [
       "157.91304347826087"
      ]
     },
     "execution_count": 52,
     "metadata": {},
     "output_type": "execute_result"
    }
   ],
   "source": [
    "# Average Flight time\n",
    "np.average(pd.Series(a))"
   ]
  },
  {
   "cell_type": "code",
   "execution_count": 53,
   "metadata": {
    "collapsed": false
   },
   "outputs": [
    {
     "data": {
      "text/plain": [
       "537.0"
      ]
     },
     "execution_count": 53,
     "metadata": {},
     "output_type": "execute_result"
    }
   ],
   "source": [
    "# Max Flight time\n",
    "np.max(pd.Series(a))"
   ]
  },
  {
   "cell_type": "code",
   "execution_count": 54,
   "metadata": {
    "collapsed": false
   },
   "outputs": [
    {
     "data": {
      "text/plain": [
       "4.0"
      ]
     },
     "execution_count": 54,
     "metadata": {},
     "output_type": "execute_result"
    }
   ],
   "source": [
    "# Min Flight time\n",
    "np.min(pd.Series(a))"
   ]
  },
  {
   "cell_type": "code",
   "execution_count": 55,
   "metadata": {
    "collapsed": false
   },
   "outputs": [],
   "source": [
    "model_data = {};\n",
    "indexNumber = 0;\n",
    "for j in range(len(keystrokes)):\n",
    "    recording = keystrokes['keystrokes'].iloc[j];\n",
    "    list_of_recordings = json.loads(recording)\n",
    "    for k in list_of_recordings:\n",
    "        for n in raw.index:\n",
    "            split_list.append(raw[0][n].split(\" \"));\n",
    "        temp = pd.DataFrame(split_list,columns=['timestamp','key','action'])\n",
    "        dts = calculatePerKeyDwellTime(temp);\n",
    "#         fts = calculateFlightTime(temp);\n",
    "#         dts['averageFlightTime'] = np.average(fts);\n",
    "        dts['subject'] = keystrokes['subject'].iloc[j];\n",
    "        model_data[indexNumber]=dts;\n",
    "        indexNumber+=1;\n"
   ]
  },
  {
   "cell_type": "code",
   "execution_count": 56,
   "metadata": {
    "collapsed": false
   },
   "outputs": [],
   "source": [
    "# input_data = pd.DataFrame(model_data).T.drop(['undefined'],axis=1).dropna(axis=1)\n",
    "input_data = pd.DataFrame(model_data).T"
   ]
  },
  {
   "cell_type": "code",
   "execution_count": 57,
   "metadata": {
    "collapsed": false
   },
   "outputs": [],
   "source": [
    "joe = input_data[input_data['subject']==\"Joseph Haaga\"]"
   ]
  },
  {
   "cell_type": "code",
   "execution_count": 58,
   "metadata": {
    "collapsed": false
   },
   "outputs": [],
   "source": [
    "# training_data = input_data.drop(['-KVbpFpFBbzcUg1it00x','-KVbp0rwVrUiIIGaycmW','-KVbnkYCYNTzNO1a5VK_','-KVbnHZpYAW-8tdtmh9X','-KVbpQT6F9G8erQwRusp'])\n",
    "training_data = input_data"
   ]
  },
  {
   "cell_type": "code",
   "execution_count": 59,
   "metadata": {
    "collapsed": false
   },
   "outputs": [],
   "source": [
    "# drop all but one of my trials from training set\n",
    "training_data=training_data.drop(range(6,21))"
   ]
  },
  {
   "cell_type": "code",
   "execution_count": 60,
   "metadata": {
    "collapsed": false
   },
   "outputs": [],
   "source": [
    "# drop training instance from my trials (answer key)\n",
    "joe = joe.drop([0,1,2])"
   ]
  },
  {
   "cell_type": "code",
   "execution_count": 61,
   "metadata": {
    "collapsed": false
   },
   "outputs": [],
   "source": [
    "training_labels = training_data['subject']\n",
    "training_data = training_data.drop(['subject'],axis=1)"
   ]
  },
  {
   "cell_type": "code",
   "execution_count": 62,
   "metadata": {
    "collapsed": true
   },
   "outputs": [],
   "source": [
    "# pd.get_dummies(training_labels)"
   ]
  },
  {
   "cell_type": "code",
   "execution_count": 63,
   "metadata": {
    "collapsed": false
   },
   "outputs": [],
   "source": [
    "from sklearn import tree\n",
    "clf = tree.DecisionTreeClassifier(criterion='entropy', splitter='random')\n",
    "clf = clf.fit(training_data, training_labels)"
   ]
  },
  {
   "cell_type": "code",
   "execution_count": 64,
   "metadata": {
    "collapsed": false
   },
   "outputs": [
    {
     "data": {
      "text/html": [
       "<div>\n",
       "<table border=\"1\" class=\"dataframe\">\n",
       "  <thead>\n",
       "    <tr style=\"text-align: right;\">\n",
       "      <th></th>\n",
       "      <th>.</th>\n",
       "      <th>A</th>\n",
       "      <th>B</th>\n",
       "      <th>Backspace</th>\n",
       "      <th>C</th>\n",
       "      <th>D</th>\n",
       "      <th>E</th>\n",
       "      <th>F</th>\n",
       "      <th>G</th>\n",
       "      <th>H</th>\n",
       "      <th>...</th>\n",
       "      <th>R</th>\n",
       "      <th>Shift</th>\n",
       "      <th>Spacebar</th>\n",
       "      <th>T</th>\n",
       "      <th>U</th>\n",
       "      <th>V</th>\n",
       "      <th>W</th>\n",
       "      <th>X</th>\n",
       "      <th>Y</th>\n",
       "      <th>Z</th>\n",
       "    </tr>\n",
       "  </thead>\n",
       "  <tbody>\n",
       "    <tr>\n",
       "      <th>6</th>\n",
       "      <td>0</td>\n",
       "      <td>8.4375</td>\n",
       "      <td>8.6875</td>\n",
       "      <td>4.4375</td>\n",
       "      <td>9.0625</td>\n",
       "      <td>66.9688</td>\n",
       "      <td>80.6094</td>\n",
       "      <td>5.9375</td>\n",
       "      <td>7.5625</td>\n",
       "      <td>161.969</td>\n",
       "      <td>...</td>\n",
       "      <td>106.469</td>\n",
       "      <td>12.4375</td>\n",
       "      <td>43.4219</td>\n",
       "      <td>169.719</td>\n",
       "      <td>90.2188</td>\n",
       "      <td>5.125</td>\n",
       "      <td>7.4375</td>\n",
       "      <td>8.5</td>\n",
       "      <td>6.9375</td>\n",
       "      <td>8.4375</td>\n",
       "    </tr>\n",
       "    <tr>\n",
       "      <th>7</th>\n",
       "      <td>0</td>\n",
       "      <td>7.5</td>\n",
       "      <td>7.72222</td>\n",
       "      <td>3.94444</td>\n",
       "      <td>8.05556</td>\n",
       "      <td>59.5278</td>\n",
       "      <td>71.6528</td>\n",
       "      <td>5.27778</td>\n",
       "      <td>6.72222</td>\n",
       "      <td>143.972</td>\n",
       "      <td>...</td>\n",
       "      <td>94.6389</td>\n",
       "      <td>11.0556</td>\n",
       "      <td>38.5972</td>\n",
       "      <td>150.861</td>\n",
       "      <td>80.1944</td>\n",
       "      <td>4.55556</td>\n",
       "      <td>6.61111</td>\n",
       "      <td>7.55556</td>\n",
       "      <td>6.16667</td>\n",
       "      <td>7.5</td>\n",
       "    </tr>\n",
       "    <tr>\n",
       "      <th>8</th>\n",
       "      <td>0</td>\n",
       "      <td>6.75</td>\n",
       "      <td>6.95</td>\n",
       "      <td>3.55</td>\n",
       "      <td>7.25</td>\n",
       "      <td>53.575</td>\n",
       "      <td>64.4875</td>\n",
       "      <td>4.75</td>\n",
       "      <td>6.05</td>\n",
       "      <td>129.575</td>\n",
       "      <td>...</td>\n",
       "      <td>85.175</td>\n",
       "      <td>9.95</td>\n",
       "      <td>34.7375</td>\n",
       "      <td>135.775</td>\n",
       "      <td>72.175</td>\n",
       "      <td>4.1</td>\n",
       "      <td>5.95</td>\n",
       "      <td>6.8</td>\n",
       "      <td>5.55</td>\n",
       "      <td>6.75</td>\n",
       "    </tr>\n",
       "    <tr>\n",
       "      <th>9</th>\n",
       "      <td>0</td>\n",
       "      <td>6.13636</td>\n",
       "      <td>6.31818</td>\n",
       "      <td>3.22727</td>\n",
       "      <td>6.59091</td>\n",
       "      <td>48.7045</td>\n",
       "      <td>58.625</td>\n",
       "      <td>4.31818</td>\n",
       "      <td>5.5</td>\n",
       "      <td>117.795</td>\n",
       "      <td>...</td>\n",
       "      <td>77.4318</td>\n",
       "      <td>9.04545</td>\n",
       "      <td>31.5795</td>\n",
       "      <td>123.432</td>\n",
       "      <td>65.6136</td>\n",
       "      <td>3.72727</td>\n",
       "      <td>5.40909</td>\n",
       "      <td>6.18182</td>\n",
       "      <td>5.04545</td>\n",
       "      <td>6.13636</td>\n",
       "    </tr>\n",
       "    <tr>\n",
       "      <th>10</th>\n",
       "      <td>0</td>\n",
       "      <td>5.625</td>\n",
       "      <td>5.79167</td>\n",
       "      <td>2.95833</td>\n",
       "      <td>6.04167</td>\n",
       "      <td>44.6458</td>\n",
       "      <td>53.7396</td>\n",
       "      <td>3.95833</td>\n",
       "      <td>5.04167</td>\n",
       "      <td>107.979</td>\n",
       "      <td>...</td>\n",
       "      <td>70.9792</td>\n",
       "      <td>8.29167</td>\n",
       "      <td>28.9479</td>\n",
       "      <td>113.146</td>\n",
       "      <td>60.1458</td>\n",
       "      <td>3.41667</td>\n",
       "      <td>4.95833</td>\n",
       "      <td>5.66667</td>\n",
       "      <td>4.625</td>\n",
       "      <td>5.625</td>\n",
       "    </tr>\n",
       "    <tr>\n",
       "      <th>11</th>\n",
       "      <td>0</td>\n",
       "      <td>5.19231</td>\n",
       "      <td>5.34615</td>\n",
       "      <td>2.73077</td>\n",
       "      <td>5.57692</td>\n",
       "      <td>41.2115</td>\n",
       "      <td>49.6058</td>\n",
       "      <td>3.65385</td>\n",
       "      <td>4.65385</td>\n",
       "      <td>99.6731</td>\n",
       "      <td>...</td>\n",
       "      <td>65.5192</td>\n",
       "      <td>7.65385</td>\n",
       "      <td>26.7212</td>\n",
       "      <td>104.442</td>\n",
       "      <td>55.5192</td>\n",
       "      <td>3.15385</td>\n",
       "      <td>4.57692</td>\n",
       "      <td>5.23077</td>\n",
       "      <td>4.26923</td>\n",
       "      <td>5.19231</td>\n",
       "    </tr>\n",
       "    <tr>\n",
       "      <th>12</th>\n",
       "      <td>0</td>\n",
       "      <td>4.82143</td>\n",
       "      <td>4.96429</td>\n",
       "      <td>2.53571</td>\n",
       "      <td>5.17857</td>\n",
       "      <td>38.2679</td>\n",
       "      <td>46.0625</td>\n",
       "      <td>3.39286</td>\n",
       "      <td>4.32143</td>\n",
       "      <td>92.5536</td>\n",
       "      <td>...</td>\n",
       "      <td>60.8393</td>\n",
       "      <td>7.10714</td>\n",
       "      <td>24.8125</td>\n",
       "      <td>96.9821</td>\n",
       "      <td>51.5536</td>\n",
       "      <td>2.92857</td>\n",
       "      <td>4.25</td>\n",
       "      <td>4.85714</td>\n",
       "      <td>3.96429</td>\n",
       "      <td>4.82143</td>\n",
       "    </tr>\n",
       "    <tr>\n",
       "      <th>13</th>\n",
       "      <td>0</td>\n",
       "      <td>4.5</td>\n",
       "      <td>4.63333</td>\n",
       "      <td>2.36667</td>\n",
       "      <td>4.83333</td>\n",
       "      <td>35.7167</td>\n",
       "      <td>42.9917</td>\n",
       "      <td>3.16667</td>\n",
       "      <td>4.03333</td>\n",
       "      <td>86.3833</td>\n",
       "      <td>...</td>\n",
       "      <td>56.7833</td>\n",
       "      <td>6.63333</td>\n",
       "      <td>23.1583</td>\n",
       "      <td>90.5167</td>\n",
       "      <td>48.1167</td>\n",
       "      <td>2.73333</td>\n",
       "      <td>3.96667</td>\n",
       "      <td>4.53333</td>\n",
       "      <td>3.7</td>\n",
       "      <td>4.5</td>\n",
       "    </tr>\n",
       "    <tr>\n",
       "      <th>14</th>\n",
       "      <td>0</td>\n",
       "      <td>4.21875</td>\n",
       "      <td>4.34375</td>\n",
       "      <td>2.21875</td>\n",
       "      <td>4.53125</td>\n",
       "      <td>33.4844</td>\n",
       "      <td>40.3047</td>\n",
       "      <td>2.96875</td>\n",
       "      <td>3.78125</td>\n",
       "      <td>80.9844</td>\n",
       "      <td>...</td>\n",
       "      <td>53.2344</td>\n",
       "      <td>6.21875</td>\n",
       "      <td>21.7109</td>\n",
       "      <td>84.8594</td>\n",
       "      <td>45.1094</td>\n",
       "      <td>2.5625</td>\n",
       "      <td>3.71875</td>\n",
       "      <td>4.25</td>\n",
       "      <td>3.46875</td>\n",
       "      <td>4.21875</td>\n",
       "    </tr>\n",
       "    <tr>\n",
       "      <th>15</th>\n",
       "      <td>0</td>\n",
       "      <td>3.97059</td>\n",
       "      <td>4.08824</td>\n",
       "      <td>2.08824</td>\n",
       "      <td>4.26471</td>\n",
       "      <td>31.5147</td>\n",
       "      <td>37.9338</td>\n",
       "      <td>2.79412</td>\n",
       "      <td>3.55882</td>\n",
       "      <td>76.2206</td>\n",
       "      <td>...</td>\n",
       "      <td>50.1029</td>\n",
       "      <td>5.85294</td>\n",
       "      <td>20.4338</td>\n",
       "      <td>79.8676</td>\n",
       "      <td>42.4559</td>\n",
       "      <td>2.41176</td>\n",
       "      <td>3.5</td>\n",
       "      <td>4</td>\n",
       "      <td>3.26471</td>\n",
       "      <td>3.97059</td>\n",
       "    </tr>\n",
       "    <tr>\n",
       "      <th>16</th>\n",
       "      <td>0</td>\n",
       "      <td>3.75</td>\n",
       "      <td>3.86111</td>\n",
       "      <td>1.97222</td>\n",
       "      <td>4.02778</td>\n",
       "      <td>29.7639</td>\n",
       "      <td>35.8264</td>\n",
       "      <td>2.63889</td>\n",
       "      <td>3.36111</td>\n",
       "      <td>71.9861</td>\n",
       "      <td>...</td>\n",
       "      <td>47.3194</td>\n",
       "      <td>5.52778</td>\n",
       "      <td>19.2986</td>\n",
       "      <td>75.4306</td>\n",
       "      <td>40.0972</td>\n",
       "      <td>2.27778</td>\n",
       "      <td>3.30556</td>\n",
       "      <td>3.77778</td>\n",
       "      <td>3.08333</td>\n",
       "      <td>3.75</td>\n",
       "    </tr>\n",
       "    <tr>\n",
       "      <th>17</th>\n",
       "      <td>0</td>\n",
       "      <td>3.55263</td>\n",
       "      <td>3.65789</td>\n",
       "      <td>1.86842</td>\n",
       "      <td>3.81579</td>\n",
       "      <td>28.1974</td>\n",
       "      <td>33.9408</td>\n",
       "      <td>2.5</td>\n",
       "      <td>3.18421</td>\n",
       "      <td>68.1974</td>\n",
       "      <td>...</td>\n",
       "      <td>44.8289</td>\n",
       "      <td>5.23684</td>\n",
       "      <td>18.2829</td>\n",
       "      <td>71.4605</td>\n",
       "      <td>37.9868</td>\n",
       "      <td>2.15789</td>\n",
       "      <td>3.13158</td>\n",
       "      <td>3.57895</td>\n",
       "      <td>2.92105</td>\n",
       "      <td>3.55263</td>\n",
       "    </tr>\n",
       "    <tr>\n",
       "      <th>18</th>\n",
       "      <td>0</td>\n",
       "      <td>3.375</td>\n",
       "      <td>3.475</td>\n",
       "      <td>1.775</td>\n",
       "      <td>3.625</td>\n",
       "      <td>26.7875</td>\n",
       "      <td>32.2437</td>\n",
       "      <td>2.375</td>\n",
       "      <td>3.025</td>\n",
       "      <td>64.7875</td>\n",
       "      <td>...</td>\n",
       "      <td>42.5875</td>\n",
       "      <td>4.975</td>\n",
       "      <td>17.3687</td>\n",
       "      <td>67.8875</td>\n",
       "      <td>36.0875</td>\n",
       "      <td>2.05</td>\n",
       "      <td>2.975</td>\n",
       "      <td>3.4</td>\n",
       "      <td>2.775</td>\n",
       "      <td>3.375</td>\n",
       "    </tr>\n",
       "    <tr>\n",
       "      <th>19</th>\n",
       "      <td>0</td>\n",
       "      <td>3.21429</td>\n",
       "      <td>3.30952</td>\n",
       "      <td>1.69048</td>\n",
       "      <td>3.45238</td>\n",
       "      <td>25.5119</td>\n",
       "      <td>30.7083</td>\n",
       "      <td>2.2619</td>\n",
       "      <td>2.88095</td>\n",
       "      <td>61.7024</td>\n",
       "      <td>...</td>\n",
       "      <td>40.5595</td>\n",
       "      <td>4.7381</td>\n",
       "      <td>16.5417</td>\n",
       "      <td>64.6548</td>\n",
       "      <td>34.369</td>\n",
       "      <td>1.95238</td>\n",
       "      <td>2.83333</td>\n",
       "      <td>3.2381</td>\n",
       "      <td>2.64286</td>\n",
       "      <td>3.21429</td>\n",
       "    </tr>\n",
       "    <tr>\n",
       "      <th>20</th>\n",
       "      <td>0</td>\n",
       "      <td>3.06818</td>\n",
       "      <td>3.15909</td>\n",
       "      <td>1.61364</td>\n",
       "      <td>3.29545</td>\n",
       "      <td>24.3523</td>\n",
       "      <td>29.3125</td>\n",
       "      <td>2.15909</td>\n",
       "      <td>2.75</td>\n",
       "      <td>58.8977</td>\n",
       "      <td>...</td>\n",
       "      <td>38.7159</td>\n",
       "      <td>4.52273</td>\n",
       "      <td>15.7898</td>\n",
       "      <td>61.7159</td>\n",
       "      <td>32.8068</td>\n",
       "      <td>1.86364</td>\n",
       "      <td>2.70455</td>\n",
       "      <td>3.09091</td>\n",
       "      <td>2.52273</td>\n",
       "      <td>3.06818</td>\n",
       "    </tr>\n",
       "  </tbody>\n",
       "</table>\n",
       "<p>15 rows × 29 columns</p>\n",
       "</div>"
      ],
      "text/plain": [
       "    .        A        B Backspace        C        D        E        F  \\\n",
       "6   0   8.4375   8.6875    4.4375   9.0625  66.9688  80.6094   5.9375   \n",
       "7   0      7.5  7.72222   3.94444  8.05556  59.5278  71.6528  5.27778   \n",
       "8   0     6.75     6.95      3.55     7.25   53.575  64.4875     4.75   \n",
       "9   0  6.13636  6.31818   3.22727  6.59091  48.7045   58.625  4.31818   \n",
       "10  0    5.625  5.79167   2.95833  6.04167  44.6458  53.7396  3.95833   \n",
       "11  0  5.19231  5.34615   2.73077  5.57692  41.2115  49.6058  3.65385   \n",
       "12  0  4.82143  4.96429   2.53571  5.17857  38.2679  46.0625  3.39286   \n",
       "13  0      4.5  4.63333   2.36667  4.83333  35.7167  42.9917  3.16667   \n",
       "14  0  4.21875  4.34375   2.21875  4.53125  33.4844  40.3047  2.96875   \n",
       "15  0  3.97059  4.08824   2.08824  4.26471  31.5147  37.9338  2.79412   \n",
       "16  0     3.75  3.86111   1.97222  4.02778  29.7639  35.8264  2.63889   \n",
       "17  0  3.55263  3.65789   1.86842  3.81579  28.1974  33.9408      2.5   \n",
       "18  0    3.375    3.475     1.775    3.625  26.7875  32.2437    2.375   \n",
       "19  0  3.21429  3.30952   1.69048  3.45238  25.5119  30.7083   2.2619   \n",
       "20  0  3.06818  3.15909   1.61364  3.29545  24.3523  29.3125  2.15909   \n",
       "\n",
       "          G        H   ...           R    Shift Spacebar        T        U  \\\n",
       "6    7.5625  161.969   ...     106.469  12.4375  43.4219  169.719  90.2188   \n",
       "7   6.72222  143.972   ...     94.6389  11.0556  38.5972  150.861  80.1944   \n",
       "8      6.05  129.575   ...      85.175     9.95  34.7375  135.775   72.175   \n",
       "9       5.5  117.795   ...     77.4318  9.04545  31.5795  123.432  65.6136   \n",
       "10  5.04167  107.979   ...     70.9792  8.29167  28.9479  113.146  60.1458   \n",
       "11  4.65385  99.6731   ...     65.5192  7.65385  26.7212  104.442  55.5192   \n",
       "12  4.32143  92.5536   ...     60.8393  7.10714  24.8125  96.9821  51.5536   \n",
       "13  4.03333  86.3833   ...     56.7833  6.63333  23.1583  90.5167  48.1167   \n",
       "14  3.78125  80.9844   ...     53.2344  6.21875  21.7109  84.8594  45.1094   \n",
       "15  3.55882  76.2206   ...     50.1029  5.85294  20.4338  79.8676  42.4559   \n",
       "16  3.36111  71.9861   ...     47.3194  5.52778  19.2986  75.4306  40.0972   \n",
       "17  3.18421  68.1974   ...     44.8289  5.23684  18.2829  71.4605  37.9868   \n",
       "18    3.025  64.7875   ...     42.5875    4.975  17.3687  67.8875  36.0875   \n",
       "19  2.88095  61.7024   ...     40.5595   4.7381  16.5417  64.6548   34.369   \n",
       "20     2.75  58.8977   ...     38.7159  4.52273  15.7898  61.7159  32.8068   \n",
       "\n",
       "          V        W        X        Y        Z  \n",
       "6     5.125   7.4375      8.5   6.9375   8.4375  \n",
       "7   4.55556  6.61111  7.55556  6.16667      7.5  \n",
       "8       4.1     5.95      6.8     5.55     6.75  \n",
       "9   3.72727  5.40909  6.18182  5.04545  6.13636  \n",
       "10  3.41667  4.95833  5.66667    4.625    5.625  \n",
       "11  3.15385  4.57692  5.23077  4.26923  5.19231  \n",
       "12  2.92857     4.25  4.85714  3.96429  4.82143  \n",
       "13  2.73333  3.96667  4.53333      3.7      4.5  \n",
       "14   2.5625  3.71875     4.25  3.46875  4.21875  \n",
       "15  2.41176      3.5        4  3.26471  3.97059  \n",
       "16  2.27778  3.30556  3.77778  3.08333     3.75  \n",
       "17  2.15789  3.13158  3.57895  2.92105  3.55263  \n",
       "18     2.05    2.975      3.4    2.775    3.375  \n",
       "19  1.95238  2.83333   3.2381  2.64286  3.21429  \n",
       "20  1.86364  2.70455  3.09091  2.52273  3.06818  \n",
       "\n",
       "[15 rows x 29 columns]"
      ]
     },
     "execution_count": 64,
     "metadata": {},
     "output_type": "execute_result"
    }
   ],
   "source": [
    "joe.drop(['subject'],axis=1)"
   ]
  },
  {
   "cell_type": "code",
   "execution_count": 65,
   "metadata": {
    "collapsed": false
   },
   "outputs": [
    {
     "data": {
      "text/plain": [
       "array(['Andrew Sutardji', 'Andrew Sutardji', 'Andrew Sutardji',\n",
       "       'Sean Murphy', 'Sean Murphy', 'Sean Murphy', 'Sean Murphy',\n",
       "       'Sean Murphy', 'Sean Murphy', 'Sean Murphy', 'Sean Murphy',\n",
       "       'Sean Murphy', 'Sean Murphy', 'Sean Murphy', 'Sean Murphy'], dtype=object)"
      ]
     },
     "execution_count": 65,
     "metadata": {},
     "output_type": "execute_result"
    }
   ],
   "source": [
    "clf.predict(joe.drop(['subject'],axis=1))"
   ]
  },
  {
   "cell_type": "code",
   "execution_count": 66,
   "metadata": {
    "collapsed": false
   },
   "outputs": [
    {
     "data": {
      "text/plain": [
       "array([[ 0.,  1.,  0.,  0.,  0.,  0.,  0.,  0.,  0.,  0.,  0.,  0.],\n",
       "       [ 0.,  1.,  0.,  0.,  0.,  0.,  0.,  0.,  0.,  0.,  0.,  0.],\n",
       "       [ 0.,  1.,  0.,  0.,  0.,  0.,  0.,  0.,  0.,  0.,  0.,  0.],\n",
       "       [ 0.,  0.,  0.,  0.,  0.,  0.,  0.,  0.,  0.,  0.,  0.,  1.],\n",
       "       [ 0.,  0.,  0.,  0.,  0.,  0.,  0.,  0.,  0.,  0.,  0.,  1.],\n",
       "       [ 0.,  0.,  0.,  0.,  0.,  0.,  0.,  0.,  0.,  0.,  0.,  1.],\n",
       "       [ 0.,  0.,  0.,  0.,  0.,  0.,  0.,  0.,  0.,  0.,  0.,  1.],\n",
       "       [ 0.,  0.,  0.,  0.,  0.,  0.,  0.,  0.,  0.,  0.,  0.,  1.],\n",
       "       [ 0.,  0.,  0.,  0.,  0.,  0.,  0.,  0.,  0.,  0.,  0.,  1.],\n",
       "       [ 0.,  0.,  0.,  0.,  0.,  0.,  0.,  0.,  0.,  0.,  0.,  1.],\n",
       "       [ 0.,  0.,  0.,  0.,  0.,  0.,  0.,  0.,  0.,  0.,  0.,  1.],\n",
       "       [ 0.,  0.,  0.,  0.,  0.,  0.,  0.,  0.,  0.,  0.,  0.,  1.],\n",
       "       [ 0.,  0.,  0.,  0.,  0.,  0.,  0.,  0.,  0.,  0.,  0.,  1.],\n",
       "       [ 0.,  0.,  0.,  0.,  0.,  0.,  0.,  0.,  0.,  0.,  0.,  1.],\n",
       "       [ 0.,  0.,  0.,  0.,  0.,  0.,  0.,  0.,  0.,  0.,  0.,  1.]])"
      ]
     },
     "execution_count": 66,
     "metadata": {},
     "output_type": "execute_result"
    }
   ],
   "source": [
    "clf.predict_proba(joe.drop(['subject'],axis=1))"
   ]
  },
  {
   "cell_type": "code",
   "execution_count": 67,
   "metadata": {
    "collapsed": false
   },
   "outputs": [
    {
     "data": {
      "text/plain": [
       "<sklearn.tree._tree.Tree at 0x7fcff8dd6b28>"
      ]
     },
     "execution_count": 67,
     "metadata": {},
     "output_type": "execute_result"
    }
   ],
   "source": [
    "clf.tree_"
   ]
  },
  {
   "cell_type": "code",
   "execution_count": 68,
   "metadata": {
    "collapsed": true
   },
   "outputs": [],
   "source": [
    "from sklearn import tree;\n",
    "tree.export_graphviz(clf, out_file='tree.dot')                "
   ]
  },
  {
   "cell_type": "code",
   "execution_count": 69,
   "metadata": {
    "collapsed": false
   },
   "outputs": [
    {
     "ename": "ImportError",
     "evalue": "cannot import name 'MLPClassifier'",
     "output_type": "error",
     "traceback": [
      "\u001b[1;31m--------------------------------------------------------------\u001b[0m",
      "\u001b[1;31mImportError\u001b[0m                  Traceback (most recent call last)",
      "\u001b[1;32m<ipython-input-69-4c1330645b1b>\u001b[0m in \u001b[0;36m<module>\u001b[1;34m()\u001b[0m\n\u001b[1;32m----> 1\u001b[1;33m \u001b[1;32mfrom\u001b[0m \u001b[0msklearn\u001b[0m\u001b[1;33m.\u001b[0m\u001b[0mneural_network\u001b[0m \u001b[1;32mimport\u001b[0m \u001b[0mMLPClassifier\u001b[0m\u001b[1;33m\u001b[0m\u001b[0m\n\u001b[0m\u001b[0;32m      2\u001b[0m \u001b[0mclf\u001b[0m \u001b[1;33m=\u001b[0m \u001b[0mMLPClassifier\u001b[0m\u001b[1;33m(\u001b[0m\u001b[0msolver\u001b[0m\u001b[1;33m=\u001b[0m\u001b[1;34m'lbfgs'\u001b[0m\u001b[1;33m,\u001b[0m \u001b[0malpha\u001b[0m\u001b[1;33m=\u001b[0m\u001b[1;36m1e-5\u001b[0m\u001b[1;33m,\u001b[0m \u001b[0mhidden_layer_sizes\u001b[0m\u001b[1;33m=\u001b[0m\u001b[1;33m(\u001b[0m\u001b[1;36m5\u001b[0m\u001b[1;33m,\u001b[0m \u001b[1;36m2\u001b[0m\u001b[1;33m)\u001b[0m\u001b[1;33m,\u001b[0m \u001b[0mrandom_state\u001b[0m\u001b[1;33m=\u001b[0m\u001b[1;36m1\u001b[0m\u001b[1;33m)\u001b[0m\u001b[1;33m\u001b[0m\u001b[0m\n\u001b[0;32m      3\u001b[0m \u001b[0mclf\u001b[0m\u001b[1;33m.\u001b[0m\u001b[0mfit\u001b[0m\u001b[1;33m(\u001b[0m\u001b[0mtraining_data\u001b[0m\u001b[1;33m,\u001b[0m \u001b[0mtraining_labels\u001b[0m\u001b[1;33m)\u001b[0m\u001b[1;33m\u001b[0m\u001b[0m\n\u001b[0;32m      4\u001b[0m MLPClassifier(activation='relu', alpha=1e-05, batch_size='auto',\n\u001b[0;32m      5\u001b[0m        \u001b[0mbeta_1\u001b[0m\u001b[1;33m=\u001b[0m\u001b[1;36m0.9\u001b[0m\u001b[1;33m,\u001b[0m \u001b[0mbeta_2\u001b[0m\u001b[1;33m=\u001b[0m\u001b[1;36m0.999\u001b[0m\u001b[1;33m,\u001b[0m \u001b[0mearly_stopping\u001b[0m\u001b[1;33m=\u001b[0m\u001b[1;32mFalse\u001b[0m\u001b[1;33m,\u001b[0m\u001b[1;33m\u001b[0m\u001b[0m\n",
      "\u001b[1;31mImportError\u001b[0m: cannot import name 'MLPClassifier'"
     ]
    }
   ],
   "source": [
    "from sklearn.neural_network import MLPClassifier\n",
    "clf = MLPClassifier(solver='lbfgs', alpha=1e-5, hidden_layer_sizes=(5, 2), random_state=1)\n",
    "clf.fit(training_data, training_labels)                         \n",
    "MLPClassifier(activation='relu', alpha=1e-05, batch_size='auto',\n",
    "       beta_1=0.9, beta_2=0.999, early_stopping=False,\n",
    "       epsilon=1e-08, hidden_layer_sizes=(5, 2), learning_rate='constant',\n",
    "       learning_rate_init=0.001, max_iter=200, momentum=0.9,\n",
    "       nesterovs_momentum=True, power_t=0.5, random_state=1, shuffle=True,\n",
    "       solver='lbfgs', tol=0.0001, validation_fraction=0.1, verbose=False,\n",
    "       warm_start=False)"
   ]
  },
  {
   "cell_type": "code",
   "execution_count": null,
   "metadata": {
    "collapsed": false
   },
   "outputs": [],
   "source": [
    "from sklearn.neighbors import KNeighborsClassifier\n",
    "neigh = KNeighborsClassifier(n_neighbors=3)\n",
    "neigh.fit(training_data, training_labels) \n",
    "neigh.predict(joe.drop(['subject'],axis=1))"
   ]
  },
  {
   "cell_type": "code",
   "execution_count": null,
   "metadata": {
    "collapsed": false,
    "scrolled": true
   },
   "outputs": [],
   "source": [
    "neigh.predict_proba(joe.drop(['subject'],axis=1))"
   ]
  },
  {
   "cell_type": "code",
   "execution_count": null,
   "metadata": {
    "collapsed": false
   },
   "outputs": [],
   "source": [
    "# Lets try binary classification\n",
    "binary_input = input_data[:6]\n",
    "binary_input"
   ]
  },
  {
   "cell_type": "code",
   "execution_count": null,
   "metadata": {
    "collapsed": false
   },
   "outputs": [],
   "source": [
    "from sklearn.neighbors import KNeighborsClassifier\n",
    "neigh = KNeighborsClassifier(n_neighbors=3)\n",
    "neigh.fit(binary_input.drop(['subject'],axis=1), binary_input['subject']) \n",
    "neigh.predict(joe.drop(['subject'],axis=1))"
   ]
  },
  {
   "cell_type": "code",
   "execution_count": null,
   "metadata": {
    "collapsed": false
   },
   "outputs": [],
   "source": [
    "joe"
   ]
  }
 ],
 "metadata": {
  "anaconda-cloud": {},
  "kernelspec": {
   "display_name": "Python [Root]",
   "language": "python",
   "name": "Python [Root]"
  },
  "language_info": {
   "codemirror_mode": {
    "name": "ipython",
    "version": 3
   },
   "file_extension": ".py",
   "mimetype": "text/x-python",
   "name": "python",
   "nbconvert_exporter": "python",
   "pygments_lexer": "ipython3",
   "version": "3.5.2"
  }
 },
 "nbformat": 4,
 "nbformat_minor": 0
}
