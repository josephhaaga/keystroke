{
 "cells": [
  {
   "cell_type": "code",
   "execution_count": 184,
   "metadata": {
    "collapsed": false
   },
   "outputs": [],
   "source": [
    "import pandas as pd;\n",
    "import numpy as np;\n",
    "import json;\n",
    "# a = pd.read_json('keystrokes-34c38-export (2).json')"
   ]
  },
  {
   "cell_type": "code",
   "execution_count": 185,
   "metadata": {
    "collapsed": false
   },
   "outputs": [],
   "source": [
    "# json.loads(open('keystrokes-34c38-export (1).json').readlines())\n",
    "rawJSON = json.loads(\"\".join(open('keystrokes-34c38-export (2).json').readlines()))"
   ]
  },
  {
   "cell_type": "code",
   "execution_count": 186,
   "metadata": {
    "collapsed": false
   },
   "outputs": [
    {
     "data": {
      "text/plain": [
       "dict"
      ]
     },
     "execution_count": 186,
     "metadata": {},
     "output_type": "execute_result"
    }
   ],
   "source": [
    "# a = pd.read_json(rawJSON)\n",
    "type(rawJSON)"
   ]
  },
  {
   "cell_type": "code",
   "execution_count": 187,
   "metadata": {
    "collapsed": false
   },
   "outputs": [],
   "source": [
    "b=pd.DataFrame.from_dict(rawJSON)"
   ]
  },
  {
   "cell_type": "code",
   "execution_count": 188,
   "metadata": {
    "collapsed": false
   },
   "outputs": [],
   "source": [
    "obj = (b[:1]['samples'])"
   ]
  },
  {
   "cell_type": "code",
   "execution_count": 189,
   "metadata": {
    "collapsed": false
   },
   "outputs": [],
   "source": [
    "b=pd.DataFrame.from_dict(rawJSON['samples'])"
   ]
  },
  {
   "cell_type": "code",
   "execution_count": 190,
   "metadata": {
    "collapsed": false
   },
   "outputs": [],
   "source": [
    "b=b.T"
   ]
  },
  {
   "cell_type": "code",
   "execution_count": 191,
   "metadata": {
    "collapsed": false,
    "scrolled": false
   },
   "outputs": [
    {
     "data": {
      "text/html": [
       "<div>\n",
       "<table border=\"1\" class=\"dataframe\">\n",
       "  <thead>\n",
       "    <tr style=\"text-align: right;\">\n",
       "      <th></th>\n",
       "      <th>keystrokes</th>\n",
       "      <th>subject</th>\n",
       "    </tr>\n",
       "  </thead>\n",
       "  <tbody>\n",
       "    <tr>\n",
       "      <th>-KVbkycA8sWfeS5yXEe3</th>\n",
       "      <td>[[\"1478135878083 Shift PRESSED\",\"1478135878195...</td>\n",
       "      <td>Joseph Haaga</td>\n",
       "    </tr>\n",
       "    <tr>\n",
       "      <th>-KVblIpvWU-VNivjTQzR</th>\n",
       "      <td>[[\"1478135954956 Shift PRESSED\",\"1478135955211...</td>\n",
       "      <td>Andrew Sutardji</td>\n",
       "    </tr>\n",
       "    <tr>\n",
       "      <th>-KVbnHZpYAW-8tdtmh9X</th>\n",
       "      <td>[[\"1478136483035 Shift PRESSED\",\"1478136483124...</td>\n",
       "      <td>Joseph Haaga</td>\n",
       "    </tr>\n",
       "    <tr>\n",
       "      <th>-KVbnkYCYNTzNO1a5VK_</th>\n",
       "      <td>[[\"1478136603116 Shift PRESSED\",\"1478136603213...</td>\n",
       "      <td>Joseph Haaga</td>\n",
       "    </tr>\n",
       "    <tr>\n",
       "      <th>-KVbp0rwVrUiIIGaycmW</th>\n",
       "      <td>[[\"1478136939933 Shift PRESSED\",\"1478136940044...</td>\n",
       "      <td>Joseph Haaga</td>\n",
       "    </tr>\n",
       "    <tr>\n",
       "      <th>-KVbpFpFBbzcUg1it00x</th>\n",
       "      <td>[[\"1478137001019 Shift PRESSED\",\"1478137001131...</td>\n",
       "      <td>Joseph Haaga</td>\n",
       "    </tr>\n",
       "    <tr>\n",
       "      <th>-KVbpQT6F9G8erQwRusp</th>\n",
       "      <td>[[\"1478137047346 undefined RELEASED\",\"14781370...</td>\n",
       "      <td>Joseph Haaga</td>\n",
       "    </tr>\n",
       "    <tr>\n",
       "      <th>-KVd0eAZy5YHyUlnzhnf</th>\n",
       "      <td>[[\"1478157025688 Shift PRESSED\",\"1478157025807...</td>\n",
       "      <td>Sean Murphy</td>\n",
       "    </tr>\n",
       "    <tr>\n",
       "      <th>-KVfF3_zM6uVQTVFzcYZ</th>\n",
       "      <td>[[\"1478194338378 Shift PRESSED\",\"1478194338490...</td>\n",
       "      <td>Justin Golt</td>\n",
       "    </tr>\n",
       "    <tr>\n",
       "      <th>-KVfF5BZeMtIsdfAJPw3</th>\n",
       "      <td>[[\"1478194359318 Shift PRESSED\",\"1478194359500...</td>\n",
       "      <td>Dr. Michael Dulik</td>\n",
       "    </tr>\n",
       "    <tr>\n",
       "      <th>-KVfFKWtDRlEodON-9XY</th>\n",
       "      <td>[[\"1478194418905 Shift PRESSED\",\"1478194419104...</td>\n",
       "      <td>Matthew Lee Keith</td>\n",
       "    </tr>\n",
       "    <tr>\n",
       "      <th>-KVfG2U6yhDE-2O05wE2</th>\n",
       "      <td>[[\"1478194614148 Shift PRESSED\",\"1478194614219...</td>\n",
       "      <td>Rachel Semenov</td>\n",
       "    </tr>\n",
       "    <tr>\n",
       "      <th>-KVfIaAfJ57xG252xHLU</th>\n",
       "      <td>[[\"1478195230668 Shift PRESSED\",\"1478195230843...</td>\n",
       "      <td>Ashley Sudney</td>\n",
       "    </tr>\n",
       "    <tr>\n",
       "      <th>-KVfLLcHSm_Zlk3e8dLF</th>\n",
       "      <td>[[\"1478195998905 Shift PRESSED\",\"1478195999129...</td>\n",
       "      <td>Eric Roden</td>\n",
       "    </tr>\n",
       "    <tr>\n",
       "      <th>-KVfZlHWlnaZ0RSzhF2S</th>\n",
       "      <td>[[\"1478199775719 Shift PRESSED\",\"1478199775981...</td>\n",
       "      <td>Andrew Speight</td>\n",
       "    </tr>\n",
       "    <tr>\n",
       "      <th>-KVf_RMt-yDJA5lj1KxX</th>\n",
       "      <td>[[\"1478199951935 Shift PRESSED\",\"1478199952093...</td>\n",
       "      <td>Ashley 2.0</td>\n",
       "    </tr>\n",
       "    <tr>\n",
       "      <th>-KVf_glTrWKGHeMclMYz</th>\n",
       "      <td>[[\"1478200025783 Control RELEASED\",\"1478200026...</td>\n",
       "      <td>Andrew Speight 2</td>\n",
       "    </tr>\n",
       "    <tr>\n",
       "      <th>-KVfaQZVa6ZQnsDkKRn5</th>\n",
       "      <td>[[\"1478200214730 Shift PRESSED\",\"1478200214920...</td>\n",
       "      <td>Matt2</td>\n",
       "    </tr>\n",
       "    <tr>\n",
       "      <th>-KVfalad_KBYXSJM9KSq</th>\n",
       "      <td>[[\"1478200298601 Shift PRESSED\",\"1478200298641...</td>\n",
       "      <td>Justin 2.0</td>\n",
       "    </tr>\n",
       "    <tr>\n",
       "      <th>-KVfb2O5AbxKG-lYCu0j</th>\n",
       "      <td>[[\"1478200397438 undefined PRESSED\",\"147820039...</td>\n",
       "      <td>Mattbot</td>\n",
       "    </tr>\n",
       "    <tr>\n",
       "      <th>-KVfblMjYPB4mU_eF92r</th>\n",
       "      <td>[[\"1478200581741 undefined PRESSED\",\"147820058...</td>\n",
       "      <td>sun yun</td>\n",
       "    </tr>\n",
       "  </tbody>\n",
       "</table>\n",
       "</div>"
      ],
      "text/plain": [
       "                                                             keystrokes  \\\n",
       "-KVbkycA8sWfeS5yXEe3  [[\"1478135878083 Shift PRESSED\",\"1478135878195...   \n",
       "-KVblIpvWU-VNivjTQzR  [[\"1478135954956 Shift PRESSED\",\"1478135955211...   \n",
       "-KVbnHZpYAW-8tdtmh9X  [[\"1478136483035 Shift PRESSED\",\"1478136483124...   \n",
       "-KVbnkYCYNTzNO1a5VK_  [[\"1478136603116 Shift PRESSED\",\"1478136603213...   \n",
       "-KVbp0rwVrUiIIGaycmW  [[\"1478136939933 Shift PRESSED\",\"1478136940044...   \n",
       "-KVbpFpFBbzcUg1it00x  [[\"1478137001019 Shift PRESSED\",\"1478137001131...   \n",
       "-KVbpQT6F9G8erQwRusp  [[\"1478137047346 undefined RELEASED\",\"14781370...   \n",
       "-KVd0eAZy5YHyUlnzhnf  [[\"1478157025688 Shift PRESSED\",\"1478157025807...   \n",
       "-KVfF3_zM6uVQTVFzcYZ  [[\"1478194338378 Shift PRESSED\",\"1478194338490...   \n",
       "-KVfF5BZeMtIsdfAJPw3  [[\"1478194359318 Shift PRESSED\",\"1478194359500...   \n",
       "-KVfFKWtDRlEodON-9XY  [[\"1478194418905 Shift PRESSED\",\"1478194419104...   \n",
       "-KVfG2U6yhDE-2O05wE2  [[\"1478194614148 Shift PRESSED\",\"1478194614219...   \n",
       "-KVfIaAfJ57xG252xHLU  [[\"1478195230668 Shift PRESSED\",\"1478195230843...   \n",
       "-KVfLLcHSm_Zlk3e8dLF  [[\"1478195998905 Shift PRESSED\",\"1478195999129...   \n",
       "-KVfZlHWlnaZ0RSzhF2S  [[\"1478199775719 Shift PRESSED\",\"1478199775981...   \n",
       "-KVf_RMt-yDJA5lj1KxX  [[\"1478199951935 Shift PRESSED\",\"1478199952093...   \n",
       "-KVf_glTrWKGHeMclMYz  [[\"1478200025783 Control RELEASED\",\"1478200026...   \n",
       "-KVfaQZVa6ZQnsDkKRn5  [[\"1478200214730 Shift PRESSED\",\"1478200214920...   \n",
       "-KVfalad_KBYXSJM9KSq  [[\"1478200298601 Shift PRESSED\",\"1478200298641...   \n",
       "-KVfb2O5AbxKG-lYCu0j  [[\"1478200397438 undefined PRESSED\",\"147820039...   \n",
       "-KVfblMjYPB4mU_eF92r  [[\"1478200581741 undefined PRESSED\",\"147820058...   \n",
       "\n",
       "                                subject  \n",
       "-KVbkycA8sWfeS5yXEe3       Joseph Haaga  \n",
       "-KVblIpvWU-VNivjTQzR    Andrew Sutardji  \n",
       "-KVbnHZpYAW-8tdtmh9X       Joseph Haaga  \n",
       "-KVbnkYCYNTzNO1a5VK_       Joseph Haaga  \n",
       "-KVbp0rwVrUiIIGaycmW       Joseph Haaga  \n",
       "-KVbpFpFBbzcUg1it00x       Joseph Haaga  \n",
       "-KVbpQT6F9G8erQwRusp       Joseph Haaga  \n",
       "-KVd0eAZy5YHyUlnzhnf        Sean Murphy  \n",
       "-KVfF3_zM6uVQTVFzcYZ        Justin Golt  \n",
       "-KVfF5BZeMtIsdfAJPw3  Dr. Michael Dulik  \n",
       "-KVfFKWtDRlEodON-9XY  Matthew Lee Keith  \n",
       "-KVfG2U6yhDE-2O05wE2     Rachel Semenov  \n",
       "-KVfIaAfJ57xG252xHLU      Ashley Sudney  \n",
       "-KVfLLcHSm_Zlk3e8dLF         Eric Roden  \n",
       "-KVfZlHWlnaZ0RSzhF2S     Andrew Speight  \n",
       "-KVf_RMt-yDJA5lj1KxX         Ashley 2.0  \n",
       "-KVf_glTrWKGHeMclMYz   Andrew Speight 2  \n",
       "-KVfaQZVa6ZQnsDkKRn5              Matt2  \n",
       "-KVfalad_KBYXSJM9KSq         Justin 2.0  \n",
       "-KVfb2O5AbxKG-lYCu0j            Mattbot  \n",
       "-KVfblMjYPB4mU_eF92r            sun yun  "
      ]
     },
     "execution_count": 191,
     "metadata": {},
     "output_type": "execute_result"
    }
   ],
   "source": [
    "b"
   ]
  },
  {
   "cell_type": "code",
   "execution_count": 192,
   "metadata": {
    "collapsed": false
   },
   "outputs": [],
   "source": [
    "b=b.set_index(['subject'])"
   ]
  },
  {
   "cell_type": "code",
   "execution_count": 193,
   "metadata": {
    "collapsed": false
   },
   "outputs": [],
   "source": [
    "b['keystrokes']['Eric Roden'].index(\"],\")\n",
    "\n",
    "eric = b['keystrokes']['Eric Roden'][:2559]"
   ]
  },
  {
   "cell_type": "code",
   "execution_count": 194,
   "metadata": {
    "collapsed": false
   },
   "outputs": [],
   "source": [
    "def findWPM(subject):\n",
    "    user = b['keystrokes'][subject][:b['keystrokes'][subject].index(\"],\")]\n",
    "    user_list = [];\n",
    "    strokes = user.count(\"PRESSED\") + user.count(\"RELEASED\")\n",
    "    user_list = [];\n",
    "    strokes = user.count(\"PRESSED\") + user.count(\"RELEASED\")   \n",
    "    user+=']'\n",
    "    user=user[1:]\n",
    "    data = json.loads(user)\n",
    "    for st in range(len(data)):\n",
    "        data[st]=data[st].replace(\" \",\",\")\n",
    "    spacebar_presses = []\n",
    "    for d in data:\n",
    "        timestampEnd=d.index(',')\n",
    "        timestamp=d[:d.index(\",\")];\n",
    "        keyend = d.rfind(',');\n",
    "        key=d[timestampEnd+1:keyend];\n",
    "        action=d[keyend+1:];\n",
    "        if(key==\"Spacebar\" and action==\"PRESSED\"):\n",
    "#             print (d);\n",
    "            spacebar_presses.append(timestamp)\n",
    "    userSeries = pd.Series(spacebar_presses)\n",
    "    for d in range(len(userSeries)):\n",
    "        userSeries[d]=float(userSeries[d])\n",
    "    differences = [userSeries[z+1]-userSeries[z] for z in range(len(userSeries)-1)]\n",
    "    differences = pd.Series(differences)\n",
    "#     print(np.average(differences))\n",
    "    return np.average(differences);"
   ]
  },
  {
   "cell_type": "code",
   "execution_count": 195,
   "metadata": {
    "collapsed": false
   },
   "outputs": [
    {
     "data": {
      "text/plain": [
       "982.85714285714289"
      ]
     },
     "execution_count": 195,
     "metadata": {},
     "output_type": "execute_result"
    }
   ],
   "source": [
    "findWPM(\"Matthew Lee Keith\")"
   ]
  },
  {
   "cell_type": "code",
   "execution_count": 196,
   "metadata": {
    "collapsed": false
   },
   "outputs": [],
   "source": [
    "users = list(set(b.index))"
   ]
  },
  {
   "cell_type": "code",
   "execution_count": 197,
   "metadata": {
    "collapsed": false
   },
   "outputs": [],
   "source": [
    "users.remove('Joseph Haaga')\n",
    "users.remove('Sean Murphy')\n",
    "users.remove('Andrew Sutardji')"
   ]
  },
  {
   "cell_type": "code",
   "execution_count": 200,
   "metadata": {
    "collapsed": false
   },
   "outputs": [
    {
     "name": "stdout",
     "output_type": "stream",
     "text": [
      "Andrew Speight 925.571428571\n",
      "Dr. Michael Dulik 613.857142857\n",
      "Matt2 861.714285714\n",
      "sun yun nan\n",
      "Andrew Speight 2 777.142857143\n",
      "Justin 2.0 964.571428571\n",
      "Justin Golt 943.857142857\n",
      "Matthew Lee Keith 982.857142857\n",
      "Eric Roden 955.428571429\n",
      "Rachel Semenov 612.571428571\n",
      "Ashley 2.0 1177.0\n",
      "Ashley Sudney 969.142857143\n",
      "Mattbot nan\n"
     ]
    },
    {
     "name": "stderr",
     "output_type": "stream",
     "text": [
      "/Users/joseph/anaconda3/lib/python3.5/site-packages/numpy/core/_methods.py:59: RuntimeWarning: Mean of empty slice.\n",
      "  warnings.warn(\"Mean of empty slice.\", RuntimeWarning)\n"
     ]
    }
   ],
   "source": [
    "for u in users:\n",
    "#     print (str(u))\n",
    "    print (str(u)+\" \"+str(findWPM(u)))"
   ]
  },
  {
   "cell_type": "markdown",
   "metadata": {},
   "source": [
    "## nan means they used copy-paste ##"
   ]
  }
 ],
 "metadata": {
  "anaconda-cloud": {},
  "kernelspec": {
   "display_name": "Python [Root]",
   "language": "python",
   "name": "Python [Root]"
  },
  "language_info": {
   "codemirror_mode": {
    "name": "ipython",
    "version": 3
   },
   "file_extension": ".py",
   "mimetype": "text/x-python",
   "name": "python",
   "nbconvert_exporter": "python",
   "pygments_lexer": "ipython3",
   "version": "3.5.2"
  }
 },
 "nbformat": 4,
 "nbformat_minor": 0
}
